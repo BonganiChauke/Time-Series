{
 "cells": [
  {
   "cell_type": "markdown",
   "id": "86dcb61c",
   "metadata": {},
   "source": [
    "# Importing Data Modules"
   ]
  },
  {
   "cell_type": "code",
   "execution_count": 2,
   "id": "9188001a",
   "metadata": {},
   "outputs": [],
   "source": [
    "import pandas as pd\n",
    "import numpy as np\n",
    "from datetime import datetime"
   ]
  },
  {
   "cell_type": "markdown",
   "id": "8a7bde1c",
   "metadata": {},
   "source": [
    "# Creating Sample Data"
   ]
  },
  {
   "cell_type": "code",
   "execution_count": 4,
   "id": "8569589e",
   "metadata": {},
   "outputs": [],
   "source": [
    "data = {\n",
    "    \"date\": [\n",
    "        \"2018-01-01\",\n",
    "        \"2018-02-01\",\n",
    "        \"2018-03-01\",\n",
    "        \"2018-04-01\",\n",
    "        \"2018-05-01\",\n",
    "        \"2018-06-01\",\n",
    "        \"2018-01-01\",\n",
    "        \"2018-02-01\",\n",
    "        \"2018-03-01\",\n",
    "        \"2018-04-01\",\n",
    "        \"2018-05-01\",\n",
    "        \"2018-06-01\",\n",
    "    ],\n",
    "    \"visitors\": [35, 30, 82, 26, 83, 46, 40, 57, 95, 57, 87, 42],\n",
    "}"
   ]
  },
  {
   "cell_type": "markdown",
   "id": "2fc19980",
   "metadata": {},
   "source": [
    "# Converting sample data into a Data Frame"
   ]
  },
  {
   "cell_type": "code",
   "execution_count": 5,
   "id": "852a105e",
   "metadata": {},
   "outputs": [],
   "source": [
    "# converting sample data in data frame to be readable\n",
    "df = pd.DataFrame(data, columns=['date', 'visitors'])"
   ]
  }
 ],
 "metadata": {
  "kernelspec": {
   "display_name": "Python 3",
   "language": "python",
   "name": "python3"
  },
  "language_info": {
   "codemirror_mode": {
    "name": "ipython",
    "version": 3
   },
   "file_extension": ".py",
   "mimetype": "text/x-python",
   "name": "python",
   "nbconvert_exporter": "python",
   "pygments_lexer": "ipython3",
   "version": "3.13.3"
  }
 },
 "nbformat": 4,
 "nbformat_minor": 5
}
