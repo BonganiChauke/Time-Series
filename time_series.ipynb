{
 "cells": [
  {
   "cell_type": "markdown",
   "id": "86dcb61c",
   "metadata": {},
   "source": [
    "# Importing Data Modules"
   ]
  },
  {
   "cell_type": "code",
   "execution_count": 2,
   "id": "9188001a",
   "metadata": {},
   "outputs": [],
   "source": [
    "import pandas as pd\n",
    "import numpy as np\n",
    "from datetime import datetime"
   ]
  },
  {
   "cell_type": "markdown",
   "id": "8a7bde1c",
   "metadata": {},
   "source": [
    "# Creating Sample Data"
   ]
  },
  {
   "cell_type": "code",
   "execution_count": 4,
   "id": "8569589e",
   "metadata": {},
   "outputs": [],
   "source": [
    "data = {\n",
    "    \"date\": [\n",
    "        \"2018-01-01\",\n",
    "        \"2018-02-01\",\n",
    "        \"2018-03-01\",\n",
    "        \"2018-04-01\",\n",
    "        \"2018-05-01\",\n",
    "        \"2018-06-01\",\n",
    "        \"2018-01-01\",\n",
    "        \"2018-02-01\",\n",
    "        \"2018-03-01\",\n",
    "        \"2018-04-01\",\n",
    "        \"2018-05-01\",\n",
    "        \"2018-06-01\",\n",
    "    ],\n",
    "    \"visitors\": [35, 30, 82, 26, 83, 46, 40, 57, 95, 57, 87, 42],\n",
    "}"
   ]
  },
  {
   "cell_type": "markdown",
   "id": "2fc19980",
   "metadata": {},
   "source": [
    "# Converting sample data into a Data Frame"
   ]
  },
  {
   "cell_type": "code",
   "execution_count": 5,
   "id": "852a105e",
   "metadata": {},
   "outputs": [],
   "source": [
    "# converting sample data in data frame to be readable\n",
    "df = pd.DataFrame(data, columns=['date', 'visitors'])"
   ]
  },
  {
   "cell_type": "markdown",
   "id": "29fe29d7",
   "metadata": {},
   "source": [
    "# Viewing Data"
   ]
  },
  {
   "cell_type": "code",
   "execution_count": 6,
   "id": "76ab686a",
   "metadata": {},
   "outputs": [
    {
     "data": {
      "text/html": [
       "<div>\n",
       "<style scoped>\n",
       "    .dataframe tbody tr th:only-of-type {\n",
       "        vertical-align: middle;\n",
       "    }\n",
       "\n",
       "    .dataframe tbody tr th {\n",
       "        vertical-align: top;\n",
       "    }\n",
       "\n",
       "    .dataframe thead th {\n",
       "        text-align: right;\n",
       "    }\n",
       "</style>\n",
       "<table border=\"1\" class=\"dataframe\">\n",
       "  <thead>\n",
       "    <tr style=\"text-align: right;\">\n",
       "      <th></th>\n",
       "      <th>date</th>\n",
       "      <th>visitors</th>\n",
       "    </tr>\n",
       "  </thead>\n",
       "  <tbody>\n",
       "    <tr>\n",
       "      <th>0</th>\n",
       "      <td>2018-01-01</td>\n",
       "      <td>35</td>\n",
       "    </tr>\n",
       "    <tr>\n",
       "      <th>1</th>\n",
       "      <td>2018-02-01</td>\n",
       "      <td>30</td>\n",
       "    </tr>\n",
       "    <tr>\n",
       "      <th>2</th>\n",
       "      <td>2018-03-01</td>\n",
       "      <td>82</td>\n",
       "    </tr>\n",
       "    <tr>\n",
       "      <th>3</th>\n",
       "      <td>2018-04-01</td>\n",
       "      <td>26</td>\n",
       "    </tr>\n",
       "    <tr>\n",
       "      <th>4</th>\n",
       "      <td>2018-05-01</td>\n",
       "      <td>83</td>\n",
       "    </tr>\n",
       "  </tbody>\n",
       "</table>\n",
       "</div>"
      ],
      "text/plain": [
       "         date  visitors\n",
       "0  2018-01-01        35\n",
       "1  2018-02-01        30\n",
       "2  2018-03-01        82\n",
       "3  2018-04-01        26\n",
       "4  2018-05-01        83"
      ]
     },
     "execution_count": 6,
     "metadata": {},
     "output_type": "execute_result"
    }
   ],
   "source": [
    "# viewing data \n",
    "df.head()"
   ]
  },
  {
   "cell_type": "markdown",
   "id": "76e1f14d",
   "metadata": {},
   "source": [
    "# Viewing Data Types"
   ]
  },
  {
   "cell_type": "code",
   "execution_count": null,
   "id": "d640cf7c",
   "metadata": {},
   "outputs": [
    {
     "data": {
      "text/plain": [
       "date        object\n",
       "visitors     int64\n",
       "dtype: object"
      ]
     },
     "execution_count": 7,
     "metadata": {},
     "output_type": "execute_result"
    }
   ],
   "source": [
    "# viewing data types of each column\n",
    "df.dtypes"
   ]
  }
 ],
 "metadata": {
  "kernelspec": {
   "display_name": "Python 3",
   "language": "python",
   "name": "python3"
  },
  "language_info": {
   "codemirror_mode": {
    "name": "ipython",
    "version": 3
   },
   "file_extension": ".py",
   "mimetype": "text/x-python",
   "name": "python",
   "nbconvert_exporter": "python",
   "pygments_lexer": "ipython3",
   "version": "3.13.3"
  }
 },
 "nbformat": 4,
 "nbformat_minor": 5
}
